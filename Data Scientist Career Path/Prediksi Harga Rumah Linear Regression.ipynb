{
  "nbformat": 4,
  "nbformat_minor": 0,
  "metadata": {
    "colab": {
      "name": "Prediksi Harga Rumah Linear Regression.ipynb",
      "provenance": [],
      "collapsed_sections": []
    },
    "kernelspec": {
      "name": "python3",
      "display_name": "Python 3"
    },
    "language_info": {
      "name": "python"
    }
  },
  "cells": [
    {
      "cell_type": "code",
      "execution_count": null,
      "metadata": {
        "id": "e6WiX5UjPpgk"
      },
      "outputs": [],
      "source": [
        "import pandas as pd\n",
        "import matplotlib.pyplot as plt\n",
        "import numpy as np\n",
        "import seaborn as sns\n",
        "from sklearn.linear_model import LinearRegression\n",
        "from sklearn.model_selection import train_test_split"
      ]
    },
    {
      "cell_type": "code",
      "source": [
        "data_rumah = pd.read_excel('sample_data/data_rumah.xlsx', usecols=['HARGA', 'LB', 'LT', 'KT', 'KM', 'GRS'])"
      ],
      "metadata": {
        "id": "2YVsEC3FQSsr"
      },
      "execution_count": null,
      "outputs": []
    },
    {
      "cell_type": "code",
      "source": [
        "data_rumah.head()"
      ],
      "metadata": {
        "colab": {
          "base_uri": "https://localhost:8080/",
          "height": 206
        },
        "id": "xVw46dxoQ7pt",
        "outputId": "4c23a2f8-8db1-4299-da19-568315d4c09d"
      },
      "execution_count": null,
      "outputs": [
        {
          "output_type": "execute_result",
          "data": {
            "text/html": [
              "\n",
              "  <div id=\"df-e3330a31-7bdc-44af-ab3b-7a054bcc9788\">\n",
              "    <div class=\"colab-df-container\">\n",
              "      <div>\n",
              "<style scoped>\n",
              "    .dataframe tbody tr th:only-of-type {\n",
              "        vertical-align: middle;\n",
              "    }\n",
              "\n",
              "    .dataframe tbody tr th {\n",
              "        vertical-align: top;\n",
              "    }\n",
              "\n",
              "    .dataframe thead th {\n",
              "        text-align: right;\n",
              "    }\n",
              "</style>\n",
              "<table border=\"1\" class=\"dataframe\">\n",
              "  <thead>\n",
              "    <tr style=\"text-align: right;\">\n",
              "      <th></th>\n",
              "      <th>HARGA</th>\n",
              "      <th>LB</th>\n",
              "      <th>LT</th>\n",
              "      <th>KT</th>\n",
              "      <th>KM</th>\n",
              "      <th>GRS</th>\n",
              "    </tr>\n",
              "  </thead>\n",
              "  <tbody>\n",
              "    <tr>\n",
              "      <th>0</th>\n",
              "      <td>3800000000</td>\n",
              "      <td>220</td>\n",
              "      <td>220</td>\n",
              "      <td>3</td>\n",
              "      <td>3</td>\n",
              "      <td>0</td>\n",
              "    </tr>\n",
              "    <tr>\n",
              "      <th>1</th>\n",
              "      <td>4600000000</td>\n",
              "      <td>180</td>\n",
              "      <td>137</td>\n",
              "      <td>4</td>\n",
              "      <td>3</td>\n",
              "      <td>2</td>\n",
              "    </tr>\n",
              "    <tr>\n",
              "      <th>2</th>\n",
              "      <td>3000000000</td>\n",
              "      <td>267</td>\n",
              "      <td>250</td>\n",
              "      <td>4</td>\n",
              "      <td>4</td>\n",
              "      <td>4</td>\n",
              "    </tr>\n",
              "    <tr>\n",
              "      <th>3</th>\n",
              "      <td>430000000</td>\n",
              "      <td>40</td>\n",
              "      <td>25</td>\n",
              "      <td>2</td>\n",
              "      <td>2</td>\n",
              "      <td>0</td>\n",
              "    </tr>\n",
              "    <tr>\n",
              "      <th>4</th>\n",
              "      <td>9000000000</td>\n",
              "      <td>400</td>\n",
              "      <td>355</td>\n",
              "      <td>6</td>\n",
              "      <td>5</td>\n",
              "      <td>3</td>\n",
              "    </tr>\n",
              "  </tbody>\n",
              "</table>\n",
              "</div>\n",
              "      <button class=\"colab-df-convert\" onclick=\"convertToInteractive('df-e3330a31-7bdc-44af-ab3b-7a054bcc9788')\"\n",
              "              title=\"Convert this dataframe to an interactive table.\"\n",
              "              style=\"display:none;\">\n",
              "        \n",
              "  <svg xmlns=\"http://www.w3.org/2000/svg\" height=\"24px\"viewBox=\"0 0 24 24\"\n",
              "       width=\"24px\">\n",
              "    <path d=\"M0 0h24v24H0V0z\" fill=\"none\"/>\n",
              "    <path d=\"M18.56 5.44l.94 2.06.94-2.06 2.06-.94-2.06-.94-.94-2.06-.94 2.06-2.06.94zm-11 1L8.5 8.5l.94-2.06 2.06-.94-2.06-.94L8.5 2.5l-.94 2.06-2.06.94zm10 10l.94 2.06.94-2.06 2.06-.94-2.06-.94-.94-2.06-.94 2.06-2.06.94z\"/><path d=\"M17.41 7.96l-1.37-1.37c-.4-.4-.92-.59-1.43-.59-.52 0-1.04.2-1.43.59L10.3 9.45l-7.72 7.72c-.78.78-.78 2.05 0 2.83L4 21.41c.39.39.9.59 1.41.59.51 0 1.02-.2 1.41-.59l7.78-7.78 2.81-2.81c.8-.78.8-2.07 0-2.86zM5.41 20L4 18.59l7.72-7.72 1.47 1.35L5.41 20z\"/>\n",
              "  </svg>\n",
              "      </button>\n",
              "      \n",
              "  <style>\n",
              "    .colab-df-container {\n",
              "      display:flex;\n",
              "      flex-wrap:wrap;\n",
              "      gap: 12px;\n",
              "    }\n",
              "\n",
              "    .colab-df-convert {\n",
              "      background-color: #E8F0FE;\n",
              "      border: none;\n",
              "      border-radius: 50%;\n",
              "      cursor: pointer;\n",
              "      display: none;\n",
              "      fill: #1967D2;\n",
              "      height: 32px;\n",
              "      padding: 0 0 0 0;\n",
              "      width: 32px;\n",
              "    }\n",
              "\n",
              "    .colab-df-convert:hover {\n",
              "      background-color: #E2EBFA;\n",
              "      box-shadow: 0px 1px 2px rgba(60, 64, 67, 0.3), 0px 1px 3px 1px rgba(60, 64, 67, 0.15);\n",
              "      fill: #174EA6;\n",
              "    }\n",
              "\n",
              "    [theme=dark] .colab-df-convert {\n",
              "      background-color: #3B4455;\n",
              "      fill: #D2E3FC;\n",
              "    }\n",
              "\n",
              "    [theme=dark] .colab-df-convert:hover {\n",
              "      background-color: #434B5C;\n",
              "      box-shadow: 0px 1px 3px 1px rgba(0, 0, 0, 0.15);\n",
              "      filter: drop-shadow(0px 1px 2px rgba(0, 0, 0, 0.3));\n",
              "      fill: #FFFFFF;\n",
              "    }\n",
              "  </style>\n",
              "\n",
              "      <script>\n",
              "        const buttonEl =\n",
              "          document.querySelector('#df-e3330a31-7bdc-44af-ab3b-7a054bcc9788 button.colab-df-convert');\n",
              "        buttonEl.style.display =\n",
              "          google.colab.kernel.accessAllowed ? 'block' : 'none';\n",
              "\n",
              "        async function convertToInteractive(key) {\n",
              "          const element = document.querySelector('#df-e3330a31-7bdc-44af-ab3b-7a054bcc9788');\n",
              "          const dataTable =\n",
              "            await google.colab.kernel.invokeFunction('convertToInteractive',\n",
              "                                                     [key], {});\n",
              "          if (!dataTable) return;\n",
              "\n",
              "          const docLinkHtml = 'Like what you see? Visit the ' +\n",
              "            '<a target=\"_blank\" href=https://colab.research.google.com/notebooks/data_table.ipynb>data table notebook</a>'\n",
              "            + ' to learn more about interactive tables.';\n",
              "          element.innerHTML = '';\n",
              "          dataTable['output_type'] = 'display_data';\n",
              "          await google.colab.output.renderOutput(dataTable, element);\n",
              "          const docLink = document.createElement('div');\n",
              "          docLink.innerHTML = docLinkHtml;\n",
              "          element.appendChild(docLink);\n",
              "        }\n",
              "      </script>\n",
              "    </div>\n",
              "  </div>\n",
              "  "
            ],
            "text/plain": [
              "        HARGA   LB   LT  KT  KM  GRS\n",
              "0  3800000000  220  220   3   3    0\n",
              "1  4600000000  180  137   4   3    2\n",
              "2  3000000000  267  250   4   4    4\n",
              "3   430000000   40   25   2   2    0\n",
              "4  9000000000  400  355   6   5    3"
            ]
          },
          "metadata": {},
          "execution_count": 7
        }
      ]
    },
    {
      "cell_type": "code",
      "source": [
        "data_rumah.shape"
      ],
      "metadata": {
        "colab": {
          "base_uri": "https://localhost:8080/"
        },
        "id": "L7V-NtmsRDFu",
        "outputId": "acafefa1-df41-45b3-912d-b44bbe9b4bc3"
      },
      "execution_count": null,
      "outputs": [
        {
          "output_type": "execute_result",
          "data": {
            "text/plain": [
              "(1010, 6)"
            ]
          },
          "metadata": {},
          "execution_count": 6
        }
      ]
    },
    {
      "cell_type": "code",
      "source": [
        "data_rumah.info()"
      ],
      "metadata": {
        "colab": {
          "base_uri": "https://localhost:8080/"
        },
        "id": "SKFJKGl1Rfmt",
        "outputId": "4eb28adc-3c36-4140-a889-2ce1018a4101"
      },
      "execution_count": null,
      "outputs": [
        {
          "output_type": "stream",
          "name": "stdout",
          "text": [
            "<class 'pandas.core.frame.DataFrame'>\n",
            "RangeIndex: 1010 entries, 0 to 1009\n",
            "Data columns (total 6 columns):\n",
            " #   Column  Non-Null Count  Dtype\n",
            "---  ------  --------------  -----\n",
            " 0   HARGA   1010 non-null   int64\n",
            " 1   LB      1010 non-null   int64\n",
            " 2   LT      1010 non-null   int64\n",
            " 3   KT      1010 non-null   int64\n",
            " 4   KM      1010 non-null   int64\n",
            " 5   GRS     1010 non-null   int64\n",
            "dtypes: int64(6)\n",
            "memory usage: 47.5 KB\n"
          ]
        }
      ]
    },
    {
      "cell_type": "code",
      "source": [
        "data_rumah.describe()"
      ],
      "metadata": {
        "colab": {
          "base_uri": "https://localhost:8080/",
          "height": 300
        },
        "id": "JSXltBlgRaQv",
        "outputId": "3d34fb9b-ce1f-4ee5-a2b4-755a38e75806"
      },
      "execution_count": null,
      "outputs": [
        {
          "output_type": "execute_result",
          "data": {
            "text/html": [
              "\n",
              "  <div id=\"df-d4843d57-7db9-4b64-9760-cab3d12bb9e7\">\n",
              "    <div class=\"colab-df-container\">\n",
              "      <div>\n",
              "<style scoped>\n",
              "    .dataframe tbody tr th:only-of-type {\n",
              "        vertical-align: middle;\n",
              "    }\n",
              "\n",
              "    .dataframe tbody tr th {\n",
              "        vertical-align: top;\n",
              "    }\n",
              "\n",
              "    .dataframe thead th {\n",
              "        text-align: right;\n",
              "    }\n",
              "</style>\n",
              "<table border=\"1\" class=\"dataframe\">\n",
              "  <thead>\n",
              "    <tr style=\"text-align: right;\">\n",
              "      <th></th>\n",
              "      <th>HARGA</th>\n",
              "      <th>LB</th>\n",
              "      <th>LT</th>\n",
              "      <th>KT</th>\n",
              "      <th>KM</th>\n",
              "      <th>GRS</th>\n",
              "    </tr>\n",
              "  </thead>\n",
              "  <tbody>\n",
              "    <tr>\n",
              "      <th>count</th>\n",
              "      <td>1.010000e+03</td>\n",
              "      <td>1010.000000</td>\n",
              "      <td>1010.000000</td>\n",
              "      <td>1010.000000</td>\n",
              "      <td>1010.000000</td>\n",
              "      <td>1010.000000</td>\n",
              "    </tr>\n",
              "    <tr>\n",
              "      <th>mean</th>\n",
              "      <td>7.628987e+09</td>\n",
              "      <td>276.539604</td>\n",
              "      <td>237.432673</td>\n",
              "      <td>4.668317</td>\n",
              "      <td>3.607921</td>\n",
              "      <td>1.920792</td>\n",
              "    </tr>\n",
              "    <tr>\n",
              "      <th>std</th>\n",
              "      <td>7.340946e+09</td>\n",
              "      <td>177.864557</td>\n",
              "      <td>179.957604</td>\n",
              "      <td>1.572776</td>\n",
              "      <td>1.420066</td>\n",
              "      <td>1.510998</td>\n",
              "    </tr>\n",
              "    <tr>\n",
              "      <th>min</th>\n",
              "      <td>4.300000e+08</td>\n",
              "      <td>40.000000</td>\n",
              "      <td>25.000000</td>\n",
              "      <td>2.000000</td>\n",
              "      <td>1.000000</td>\n",
              "      <td>0.000000</td>\n",
              "    </tr>\n",
              "    <tr>\n",
              "      <th>25%</th>\n",
              "      <td>3.262500e+09</td>\n",
              "      <td>150.000000</td>\n",
              "      <td>130.000000</td>\n",
              "      <td>4.000000</td>\n",
              "      <td>3.000000</td>\n",
              "      <td>1.000000</td>\n",
              "    </tr>\n",
              "    <tr>\n",
              "      <th>50%</th>\n",
              "      <td>5.000000e+09</td>\n",
              "      <td>216.500000</td>\n",
              "      <td>165.000000</td>\n",
              "      <td>4.000000</td>\n",
              "      <td>3.000000</td>\n",
              "      <td>2.000000</td>\n",
              "    </tr>\n",
              "    <tr>\n",
              "      <th>75%</th>\n",
              "      <td>9.000000e+09</td>\n",
              "      <td>350.000000</td>\n",
              "      <td>290.000000</td>\n",
              "      <td>5.000000</td>\n",
              "      <td>4.000000</td>\n",
              "      <td>2.000000</td>\n",
              "    </tr>\n",
              "    <tr>\n",
              "      <th>max</th>\n",
              "      <td>6.500000e+10</td>\n",
              "      <td>1126.000000</td>\n",
              "      <td>1400.000000</td>\n",
              "      <td>10.000000</td>\n",
              "      <td>10.000000</td>\n",
              "      <td>10.000000</td>\n",
              "    </tr>\n",
              "  </tbody>\n",
              "</table>\n",
              "</div>\n",
              "      <button class=\"colab-df-convert\" onclick=\"convertToInteractive('df-d4843d57-7db9-4b64-9760-cab3d12bb9e7')\"\n",
              "              title=\"Convert this dataframe to an interactive table.\"\n",
              "              style=\"display:none;\">\n",
              "        \n",
              "  <svg xmlns=\"http://www.w3.org/2000/svg\" height=\"24px\"viewBox=\"0 0 24 24\"\n",
              "       width=\"24px\">\n",
              "    <path d=\"M0 0h24v24H0V0z\" fill=\"none\"/>\n",
              "    <path d=\"M18.56 5.44l.94 2.06.94-2.06 2.06-.94-2.06-.94-.94-2.06-.94 2.06-2.06.94zm-11 1L8.5 8.5l.94-2.06 2.06-.94-2.06-.94L8.5 2.5l-.94 2.06-2.06.94zm10 10l.94 2.06.94-2.06 2.06-.94-2.06-.94-.94-2.06-.94 2.06-2.06.94z\"/><path d=\"M17.41 7.96l-1.37-1.37c-.4-.4-.92-.59-1.43-.59-.52 0-1.04.2-1.43.59L10.3 9.45l-7.72 7.72c-.78.78-.78 2.05 0 2.83L4 21.41c.39.39.9.59 1.41.59.51 0 1.02-.2 1.41-.59l7.78-7.78 2.81-2.81c.8-.78.8-2.07 0-2.86zM5.41 20L4 18.59l7.72-7.72 1.47 1.35L5.41 20z\"/>\n",
              "  </svg>\n",
              "      </button>\n",
              "      \n",
              "  <style>\n",
              "    .colab-df-container {\n",
              "      display:flex;\n",
              "      flex-wrap:wrap;\n",
              "      gap: 12px;\n",
              "    }\n",
              "\n",
              "    .colab-df-convert {\n",
              "      background-color: #E8F0FE;\n",
              "      border: none;\n",
              "      border-radius: 50%;\n",
              "      cursor: pointer;\n",
              "      display: none;\n",
              "      fill: #1967D2;\n",
              "      height: 32px;\n",
              "      padding: 0 0 0 0;\n",
              "      width: 32px;\n",
              "    }\n",
              "\n",
              "    .colab-df-convert:hover {\n",
              "      background-color: #E2EBFA;\n",
              "      box-shadow: 0px 1px 2px rgba(60, 64, 67, 0.3), 0px 1px 3px 1px rgba(60, 64, 67, 0.15);\n",
              "      fill: #174EA6;\n",
              "    }\n",
              "\n",
              "    [theme=dark] .colab-df-convert {\n",
              "      background-color: #3B4455;\n",
              "      fill: #D2E3FC;\n",
              "    }\n",
              "\n",
              "    [theme=dark] .colab-df-convert:hover {\n",
              "      background-color: #434B5C;\n",
              "      box-shadow: 0px 1px 3px 1px rgba(0, 0, 0, 0.15);\n",
              "      filter: drop-shadow(0px 1px 2px rgba(0, 0, 0, 0.3));\n",
              "      fill: #FFFFFF;\n",
              "    }\n",
              "  </style>\n",
              "\n",
              "      <script>\n",
              "        const buttonEl =\n",
              "          document.querySelector('#df-d4843d57-7db9-4b64-9760-cab3d12bb9e7 button.colab-df-convert');\n",
              "        buttonEl.style.display =\n",
              "          google.colab.kernel.accessAllowed ? 'block' : 'none';\n",
              "\n",
              "        async function convertToInteractive(key) {\n",
              "          const element = document.querySelector('#df-d4843d57-7db9-4b64-9760-cab3d12bb9e7');\n",
              "          const dataTable =\n",
              "            await google.colab.kernel.invokeFunction('convertToInteractive',\n",
              "                                                     [key], {});\n",
              "          if (!dataTable) return;\n",
              "\n",
              "          const docLinkHtml = 'Like what you see? Visit the ' +\n",
              "            '<a target=\"_blank\" href=https://colab.research.google.com/notebooks/data_table.ipynb>data table notebook</a>'\n",
              "            + ' to learn more about interactive tables.';\n",
              "          element.innerHTML = '';\n",
              "          dataTable['output_type'] = 'display_data';\n",
              "          await google.colab.output.renderOutput(dataTable, element);\n",
              "          const docLink = document.createElement('div');\n",
              "          docLink.innerHTML = docLinkHtml;\n",
              "          element.appendChild(docLink);\n",
              "        }\n",
              "      </script>\n",
              "    </div>\n",
              "  </div>\n",
              "  "
            ],
            "text/plain": [
              "              HARGA           LB  ...           KM          GRS\n",
              "count  1.010000e+03  1010.000000  ...  1010.000000  1010.000000\n",
              "mean   7.628987e+09   276.539604  ...     3.607921     1.920792\n",
              "std    7.340946e+09   177.864557  ...     1.420066     1.510998\n",
              "min    4.300000e+08    40.000000  ...     1.000000     0.000000\n",
              "25%    3.262500e+09   150.000000  ...     3.000000     1.000000\n",
              "50%    5.000000e+09   216.500000  ...     3.000000     2.000000\n",
              "75%    9.000000e+09   350.000000  ...     4.000000     2.000000\n",
              "max    6.500000e+10  1126.000000  ...    10.000000    10.000000\n",
              "\n",
              "[8 rows x 6 columns]"
            ]
          },
          "metadata": {},
          "execution_count": 8
        }
      ]
    },
    {
      "cell_type": "code",
      "source": [
        "data_rumah.isnull().sum()"
      ],
      "metadata": {
        "colab": {
          "base_uri": "https://localhost:8080/"
        },
        "id": "Pk2LQVQIR3qZ",
        "outputId": "2ec9f606-7467-4a6d-ff15-4689547279d5"
      },
      "execution_count": null,
      "outputs": [
        {
          "output_type": "execute_result",
          "data": {
            "text/plain": [
              "HARGA    0\n",
              "LB       0\n",
              "LT       0\n",
              "KT       0\n",
              "KM       0\n",
              "GRS      0\n",
              "dtype: int64"
            ]
          },
          "metadata": {},
          "execution_count": 11
        }
      ]
    },
    {
      "cell_type": "code",
      "source": [
        "#Univariate analysis KT.\n",
        "f = plt.figure(figsize=(12,4))\n",
        "f.add_subplot(1,2,1)\n",
        "sns.countplot(data_rumah['KT'])\n",
        "f.add_subplot(1,2,2)\n",
        "plt.boxplot(data_rumah['KT'])\n",
        "plt.show()"
      ],
      "metadata": {
        "colab": {
          "base_uri": "https://localhost:8080/",
          "height": 334
        },
        "id": "cL6ayL3SSADD",
        "outputId": "4e9ace34-fb58-4761-c4a7-14bd0e34d2bc"
      },
      "execution_count": null,
      "outputs": [
        {
          "output_type": "stream",
          "name": "stderr",
          "text": [
            "/usr/local/lib/python3.7/dist-packages/seaborn/_decorators.py:43: FutureWarning: Pass the following variable as a keyword arg: x. From version 0.12, the only valid positional argument will be `data`, and passing other arguments without an explicit keyword will result in an error or misinterpretation.\n",
            "  FutureWarning\n"
          ]
        },
        {
          "output_type": "display_data",
          "data": {
            "image/png": "[encoded data removed]",
            "text/plain": [
              "<Figure size 864x288 with 2 Axes>"
            ]
          },
          "metadata": {
            "needs_background": "light"
          }
        }
      ]
    },
    {
      "cell_type": "code",
      "source": [
        "#Univariate analysis KM.\n",
        "f = plt.figure(figsize=(12,4))\n",
        "f.add_subplot(1,2,1)\n",
        "sns.countplot(data_rumah['KM'])\n",
        "f.add_subplot(1,2,2)\n",
        "plt.boxplot(data_rumah['KM'])\n",
        "plt.show()"
      ],
      "metadata": {
        "colab": {
          "base_uri": "https://localhost:8080/",
          "height": 334
        },
        "id": "Bi_axeeaSTcb",
        "outputId": "c7c41c16-3c4f-4d61-9a60-24b240785bc3"
      },
      "execution_count": null,
      "outputs": [
        {
          "output_type": "stream",
          "name": "stderr",
          "text": [
            "/usr/local/lib/python3.7/dist-packages/seaborn/_decorators.py:43: FutureWarning: Pass the following variable as a keyword arg: x. From version 0.12, the only valid positional argument will be `data`, and passing other arguments without an explicit keyword will result in an error or misinterpretation.\n",
            "  FutureWarning\n"
          ]
        },
        {
          "output_type": "display_data",
          "data": {
            "image/png": "[encoded data removed]",
            "text/plain": [
              "<Figure size 864x288 with 2 Axes>"
            ]
          },
          "metadata": {
            "needs_background": "light"
          }
        }
      ]
    },
    {
      "cell_type": "code",
      "source": [
        "#Univariate analysis GRS.\n",
        "f = plt.figure(figsize=(12,4))\n",
        "f.add_subplot(1,2,1)\n",
        "sns.countplot(data_rumah['GRS'])\n",
        "f.add_subplot(1,2,2)\n",
        "plt.boxplot(data_rumah['GRS'])\n",
        "plt.show()"
      ],
      "metadata": {
        "colab": {
          "base_uri": "https://localhost:8080/",
          "height": 334
        },
        "id": "NREAbx49SkCF",
        "outputId": "b1a90238-02f8-46c7-f2e4-4c7764c5f719"
      },
      "execution_count": null,
      "outputs": [
        {
          "output_type": "stream",
          "name": "stderr",
          "text": [
            "/usr/local/lib/python3.7/dist-packages/seaborn/_decorators.py:43: FutureWarning: Pass the following variable as a keyword arg: x. From version 0.12, the only valid positional argument will be `data`, and passing other arguments without an explicit keyword will result in an error or misinterpretation.\n",
            "  FutureWarning\n"
          ]
        },
        {
          "output_type": "display_data",
          "data": {
            "image/png": "[encoded data removed]",
            "text/plain": [
              "<Figure size 864x288 with 2 Axes>"
            ]
          },
          "metadata": {
            "needs_background": "light"
          }
        }
      ]
    },
    {
      "cell_type": "code",
      "source": [
        "#Univariate analysis LT.\n",
        "\n",
        "f = plt.figure(figsize=(12,4))\n",
        "f.add_subplot(1,2,1)\n",
        "data_rumah['LT'].plot(kind='kde')\n",
        "f.add_subplot(1,2,2)\n",
        "plt.boxplot(data_rumah['LT'])\n",
        "plt.show()"
      ],
      "metadata": {
        "colab": {
          "base_uri": "https://localhost:8080/",
          "height": 265
        },
        "id": "6L4yx8W_SoTs",
        "outputId": "25fe7eae-4a4a-46e0-8706-b4ddfb7f86e2"
      },
      "execution_count": null,
      "outputs": [
        {
          "output_type": "display_data",
          "data": {
            "image/png": "[encoded data removed]",
            "text/plain": [
              "<Figure size 864x288 with 2 Axes>"
            ]
          },
          "metadata": {
            "needs_background": "light"
          }
        }
      ]
    },
    {
      "cell_type": "code",
      "source": [
        "#Univariate analysis LB.\n",
        "\n",
        "f = plt.figure(figsize=(12,4))\n",
        "f.add_subplot(1,2,1)\n",
        "data_rumah['LB'].plot(kind='kde')\n",
        "f.add_subplot(1,2,2)\n",
        "plt.boxplot(data_rumah['LB'])\n",
        "plt.show()"
      ],
      "metadata": {
        "colab": {
          "base_uri": "https://localhost:8080/",
          "height": 265
        },
        "id": "G5IiKV4CTEqP",
        "outputId": "eaf5d60f-fc6d-4e52-c689-6218af06d2a8"
      },
      "execution_count": null,
      "outputs": [
        {
          "output_type": "display_data",
          "data": {
            "image/png": "[encoded data removed]",
            "text/plain": [
              "<Figure size 864x288 with 2 Axes>"
            ]
          },
          "metadata": {
            "needs_background": "light"
          }
        }
      ]
    },
    {
      "cell_type": "code",
      "source": [
        "#Bivariate analysis antara independent variable dan dependent variable.\n",
        "\n",
        "plt.figure(figsize=(10,8))\n",
        "sns.pairplot(data=data_rumah, x_vars=['LB', 'LT', 'KT', 'KM', 'GRS'], y_vars=['HARGA'], size=5, aspect=0.80)"
      ],
      "metadata": {
        "colab": {
          "base_uri": "https://localhost:8080/",
          "height": 400
        },
        "id": "IioHSEpTTLQK",
        "outputId": "f0ef2a3a-8d27-4e02-88d6-7d17da905a33"
      },
      "execution_count": null,
      "outputs": [
        {
          "output_type": "stream",
          "name": "stderr",
          "text": [
            "/usr/local/lib/python3.7/dist-packages/seaborn/axisgrid.py:2076: UserWarning: The `size` parameter has been renamed to `height`; please update your code.\n",
            "  warnings.warn(msg, UserWarning)\n"
          ]
        },
        {
          "output_type": "execute_result",
          "data": {
            "text/plain": [
              "<seaborn.axisgrid.PairGrid at 0x7fe6359a1790>"
            ]
          },
          "metadata": {},
          "execution_count": 21
        },
        {
          "output_type": "display_data",
          "data": {
            "text/plain": [
              "<Figure size 720x576 with 0 Axes>"
            ]
          },
          "metadata": {}
        },
        {
          "output_type": "display_data",
          "data": {
            "image/png": "[encoded data removed]",
            "text/plain": [
              "<Figure size 1440x360 with 5 Axes>"
            ]
          },
          "metadata": {
            "needs_background": "light"
          }
        }
      ]
    },
    {
      "cell_type": "code",
      "source": [
        "#Mengetahui nilai korelasi dari independent variable dan dependent variable.\n",
        "data_rumah.corr().style.background_gradient().set_precision(2)"
      ],
      "metadata": {
        "colab": {
          "base_uri": "https://localhost:8080/",
          "height": 272
        },
        "id": "LH_rWfqtUBJY",
        "outputId": "c639d366-65ff-40f7-ff61-db3257b1c89c"
      },
      "execution_count": null,
      "outputs": [
        {
          "output_type": "stream",
          "name": "stderr",
          "text": [
            "/usr/local/lib/python3.7/dist-packages/ipykernel_launcher.py:2: FutureWarning: this method is deprecated in favour of `Styler.format(precision=..)`\n",
            "  \n"
          ]
        },
        {
          "output_type": "execute_result",
          "data": {
            "text/html": [
              "<style type=\"text/css\">\n",
              "#T_60bd9_row0_col0, #T_60bd9_row1_col1, #T_60bd9_row2_col2, #T_60bd9_row3_col3, #T_60bd9_row4_col4, #T_60bd9_row5_col5 {\n",
              "  background-color: #023858;\n",
              "  color: #f1f1f1;\n",
              "}\n",
              "#T_60bd9_row0_col1 {\n",
              "  background-color: #5ea0ca;\n",
              "  color: #f1f1f1;\n",
              "}\n",
              "#T_60bd9_row0_col2 {\n",
              "  background-color: #1c7fb8;\n",
              "  color: #f1f1f1;\n",
              "}\n",
              "#T_60bd9_row0_col3, #T_60bd9_row3_col2 {\n",
              "  background-color: #f6eff7;\n",
              "  color: #000000;\n",
              "}\n",
              "#T_60bd9_row0_col4, #T_60bd9_row4_col5 {\n",
              "  background-color: #f1ebf5;\n",
              "  color: #000000;\n",
              "}\n",
              "#T_60bd9_row0_col5, #T_60bd9_row1_col4, #T_60bd9_row2_col5 {\n",
              "  background-color: #c5cce3;\n",
              "  color: #000000;\n",
              "}\n",
              "#T_60bd9_row1_col0 {\n",
              "  background-color: #358fc0;\n",
              "  color: #f1f1f1;\n",
              "}\n",
              "#T_60bd9_row1_col2 {\n",
              "  background-color: #4e9ac6;\n",
              "  color: #f1f1f1;\n",
              "}\n",
              "#T_60bd9_row1_col3 {\n",
              "  background-color: #d5d5e8;\n",
              "  color: #000000;\n",
              "}\n",
              "#T_60bd9_row1_col5 {\n",
              "  background-color: #c1cae2;\n",
              "  color: #000000;\n",
              "}\n",
              "#T_60bd9_row2_col0 {\n",
              "  background-color: #1278b4;\n",
              "  color: #f1f1f1;\n",
              "}\n",
              "#T_60bd9_row2_col1 {\n",
              "  background-color: #63a2cb;\n",
              "  color: #f1f1f1;\n",
              "}\n",
              "#T_60bd9_row2_col3 {\n",
              "  background-color: #dbdaeb;\n",
              "  color: #000000;\n",
              "}\n",
              "#T_60bd9_row2_col4 {\n",
              "  background-color: #f5eff6;\n",
              "  color: #000000;\n",
              "}\n",
              "#T_60bd9_row3_col0, #T_60bd9_row3_col1, #T_60bd9_row3_col5, #T_60bd9_row4_col2, #T_60bd9_row5_col3, #T_60bd9_row5_col4 {\n",
              "  background-color: #fff7fb;\n",
              "  color: #000000;\n",
              "}\n",
              "#T_60bd9_row3_col4 {\n",
              "  background-color: #76aad0;\n",
              "  color: #f1f1f1;\n",
              "}\n",
              "#T_60bd9_row4_col0 {\n",
              "  background-color: #ede8f3;\n",
              "  color: #000000;\n",
              "}\n",
              "#T_60bd9_row4_col1 {\n",
              "  background-color: #e6e2ef;\n",
              "  color: #000000;\n",
              "}\n",
              "#T_60bd9_row4_col3 {\n",
              "  background-color: #60a1ca;\n",
              "  color: #f1f1f1;\n",
              "}\n",
              "#T_60bd9_row5_col0 {\n",
              "  background-color: #d2d3e7;\n",
              "  color: #000000;\n",
              "}\n",
              "#T_60bd9_row5_col1 {\n",
              "  background-color: #f2ecf5;\n",
              "  color: #000000;\n",
              "}\n",
              "#T_60bd9_row5_col2 {\n",
              "  background-color: #e5e1ef;\n",
              "  color: #000000;\n",
              "}\n",
              "</style>\n",
              "<table id=\"T_60bd9_\" class=\"dataframe\">\n",
              "  <thead>\n",
              "    <tr>\n",
              "      <th class=\"blank level0\" >&nbsp;</th>\n",
              "      <th class=\"col_heading level0 col0\" >HARGA</th>\n",
              "      <th class=\"col_heading level0 col1\" >LB</th>\n",
              "      <th class=\"col_heading level0 col2\" >LT</th>\n",
              "      <th class=\"col_heading level0 col3\" >KT</th>\n",
              "      <th class=\"col_heading level0 col4\" >KM</th>\n",
              "      <th class=\"col_heading level0 col5\" >GRS</th>\n",
              "    </tr>\n",
              "  </thead>\n",
              "  <tbody>\n",
              "    <tr>\n",
              "      <th id=\"T_60bd9_level0_row0\" class=\"row_heading level0 row0\" >HARGA</th>\n",
              "      <td id=\"T_60bd9_row0_col0\" class=\"data row0 col0\" >1.00</td>\n",
              "      <td id=\"T_60bd9_row0_col1\" class=\"data row0 col1\" >0.75</td>\n",
              "      <td id=\"T_60bd9_row0_col2\" class=\"data row0 col2\" >0.81</td>\n",
              "      <td id=\"T_60bd9_row0_col3\" class=\"data row0 col3\" >0.32</td>\n",
              "      <td id=\"T_60bd9_row0_col4\" class=\"data row0 col4\" >0.40</td>\n",
              "      <td id=\"T_60bd9_row0_col5\" class=\"data row0 col5\" >0.48</td>\n",
              "    </tr>\n",
              "    <tr>\n",
              "      <th id=\"T_60bd9_level0_row1\" class=\"row_heading level0 row1\" >LB</th>\n",
              "      <td id=\"T_60bd9_row1_col0\" class=\"data row1 col0\" >0.75</td>\n",
              "      <td id=\"T_60bd9_row1_col1\" class=\"data row1 col1\" >1.00</td>\n",
              "      <td id=\"T_60bd9_row1_col2\" class=\"data row1 col2\" >0.74</td>\n",
              "      <td id=\"T_60bd9_row1_col3\" class=\"data row1 col3\" >0.44</td>\n",
              "      <td id=\"T_60bd9_row1_col4\" class=\"data row1 col4\" >0.53</td>\n",
              "      <td id=\"T_60bd9_row1_col5\" class=\"data row1 col5\" >0.49</td>\n",
              "    </tr>\n",
              "    <tr>\n",
              "      <th id=\"T_60bd9_level0_row2\" class=\"row_heading level0 row2\" >LT</th>\n",
              "      <td id=\"T_60bd9_row2_col0\" class=\"data row2 col0\" >0.81</td>\n",
              "      <td id=\"T_60bd9_row2_col1\" class=\"data row2 col1\" >0.74</td>\n",
              "      <td id=\"T_60bd9_row2_col2\" class=\"data row2 col2\" >1.00</td>\n",
              "      <td id=\"T_60bd9_row2_col3\" class=\"data row2 col3\" >0.43</td>\n",
              "      <td id=\"T_60bd9_row2_col4\" class=\"data row2 col4\" >0.39</td>\n",
              "      <td id=\"T_60bd9_row2_col5\" class=\"data row2 col5\" >0.48</td>\n",
              "    </tr>\n",
              "    <tr>\n",
              "      <th id=\"T_60bd9_level0_row3\" class=\"row_heading level0 row3\" >KT</th>\n",
              "      <td id=\"T_60bd9_row3_col0\" class=\"data row3 col0\" >0.32</td>\n",
              "      <td id=\"T_60bd9_row3_col1\" class=\"data row3 col1\" >0.44</td>\n",
              "      <td id=\"T_60bd9_row3_col2\" class=\"data row3 col2\" >0.43</td>\n",
              "      <td id=\"T_60bd9_row3_col3\" class=\"data row3 col3\" >1.00</td>\n",
              "      <td id=\"T_60bd9_row3_col4\" class=\"data row3 col4\" >0.67</td>\n",
              "      <td id=\"T_60bd9_row3_col5\" class=\"data row3 col5\" >0.28</td>\n",
              "    </tr>\n",
              "    <tr>\n",
              "      <th id=\"T_60bd9_level0_row4\" class=\"row_heading level0 row4\" >KM</th>\n",
              "      <td id=\"T_60bd9_row4_col0\" class=\"data row4 col0\" >0.40</td>\n",
              "      <td id=\"T_60bd9_row4_col1\" class=\"data row4 col1\" >0.53</td>\n",
              "      <td id=\"T_60bd9_row4_col2\" class=\"data row4 col2\" >0.39</td>\n",
              "      <td id=\"T_60bd9_row4_col3\" class=\"data row4 col3\" >0.67</td>\n",
              "      <td id=\"T_60bd9_row4_col4\" class=\"data row4 col4\" >1.00</td>\n",
              "      <td id=\"T_60bd9_row4_col5\" class=\"data row4 col5\" >0.35</td>\n",
              "    </tr>\n",
              "    <tr>\n",
              "      <th id=\"T_60bd9_level0_row5\" class=\"row_heading level0 row5\" >GRS</th>\n",
              "      <td id=\"T_60bd9_row5_col0\" class=\"data row5 col0\" >0.48</td>\n",
              "      <td id=\"T_60bd9_row5_col1\" class=\"data row5 col1\" >0.49</td>\n",
              "      <td id=\"T_60bd9_row5_col2\" class=\"data row5 col2\" >0.48</td>\n",
              "      <td id=\"T_60bd9_row5_col3\" class=\"data row5 col3\" >0.28</td>\n",
              "      <td id=\"T_60bd9_row5_col4\" class=\"data row5 col4\" >0.35</td>\n",
              "      <td id=\"T_60bd9_row5_col5\" class=\"data row5 col5\" >1.00</td>\n",
              "    </tr>\n",
              "  </tbody>\n",
              "</table>\n"
            ],
            "text/plain": [
              "<pandas.io.formats.style.Styler at 0x7fe635ccffd0>"
            ]
          },
          "metadata": {},
          "execution_count": 27
        }
      ]
    },
    {
      "cell_type": "code",
      "source": [
        "#Pertama, buat variabel x dan y.\n",
        "x = data_rumah.drop(columns='HARGA', axis=1)\n",
        "y = data_rumah['HARGA']\n",
        "\n",
        "#Kedua, ucup split data menjadi training and testing dengan porsi 80:20.\n",
        "x_train, x_test, y_train, y_test = train_test_split(x, y, test_size=0.2, random_state=0)\n",
        "\n",
        "#Ketiga, ucup bikin object linear regresi.\n",
        "lin_reg = LinearRegression()\n",
        "\n",
        "#Keempat, train the model menggunakan training data yang sudah displit.\n",
        "lin_reg.fit(x_train, y_train)\n",
        "y_pred = lin_reg.predict(x_test)"
      ],
      "metadata": {
        "id": "-vxZx6iyUNWk"
      },
      "execution_count": null,
      "outputs": []
    },
    {
      "cell_type": "code",
      "source": [
        "#Kelima, cari tau nilai slope/koefisien (m) dan intercept (b).\n",
        "print(lin_reg.coef_)\n",
        "print('')\n",
        "print(lin_reg.intercept_)"
      ],
      "metadata": {
        "colab": {
          "base_uri": "https://localhost:8080/"
        },
        "id": "l0ET2xKiVlRe",
        "outputId": "46711ddd-a37b-4af0-a2b4-7b729f3aa8f1"
      },
      "execution_count": null,
      "outputs": [
        {
          "output_type": "stream",
          "name": "stdout",
          "text": [
            "[ 1.17719447e+07  2.39735509e+07 -5.03600046e+08  2.70180448e+08\n",
            "  2.16730122e+08]\n",
            "\n",
            "-444686723.13487625\n"
          ]
        }
      ]
    },
    {
      "cell_type": "code",
      "source": [
        "print('Training Accuracy :', lin_reg.score(x_train, y_train))\n",
        "print('Testing Accuracy :', lin_reg.score(x_test, y_test))"
      ],
      "metadata": {
        "colab": {
          "base_uri": "https://localhost:8080/"
        },
        "id": "jbqZ65NrWrKs",
        "outputId": "3df002fd-8da1-4ec4-d6bc-30491a84984c"
      },
      "execution_count": null,
      "outputs": [
        {
          "output_type": "stream",
          "name": "stdout",
          "text": [
            "Training Accuracy : 0.7427706352081715\n",
            "Testing Accuracy : 0.6388704433330001\n"
          ]
        }
      ]
    },
    {
      "cell_type": "code",
      "source": [
        "#Prediksi harga rumah idaman Joko.\n",
        "np.round(lin_reg.predict([[120,150,3,2,1]]))"
      ],
      "metadata": {
        "colab": {
          "base_uri": "https://localhost:8080/"
        },
        "id": "OVw7RRE3W68x",
        "outputId": "268f0d55-fc6a-4f7d-85a1-f8a351ac780f"
      },
      "execution_count": null,
      "outputs": [
        {
          "output_type": "stream",
          "name": "stderr",
          "text": [
            "/usr/local/lib/python3.7/dist-packages/sklearn/base.py:451: UserWarning: X does not have valid feature names, but LinearRegression was fitted with feature names\n",
            "  \"X does not have valid feature names, but\"\n"
          ]
        },
        {
          "output_type": "execute_result",
          "data": {
            "text/plain": [
              "array([3.81027017e+09])"
            ]
          },
          "metadata": {},
          "execution_count": 42
        }
      ]
    }
  ]
}