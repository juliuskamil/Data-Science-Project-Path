{
  "nbformat": 4,
  "nbformat_minor": 0,
  "metadata": {
    "colab": {
      "name": "Menghitung Pengeluaran Gaji Perusahaan.ipynb",
      "provenance": [],
      "collapsed_sections": []
    },
    "kernelspec": {
      "name": "python3",
      "display_name": "Python 3"
    },
    "language_info": {
      "name": "python"
    }
  },
  "cells": [
    {
      "cell_type": "code",
      "source": [
        "# Definisikan class Karyawan sebagai parent class\n",
        "class Karyawan:\n",
        "    def __init__(self, nama, usia, pendapatan, insentif_lembur):\n",
        "        self.nama = nama\n",
        "        self.usia = usia \n",
        "        self.pendapatan = pendapatan\n",
        "        self.insentif_lembur = insentif_lembur \n",
        "    def total_pendapatan(self):\n",
        "        return self.pendapatan + self.insentif_lembur\n",
        "\n",
        "# Definisikan class StafManajer sebagai child class dari class Karyawan\n",
        "class StafManajer(Karyawan):\n",
        "    def __init__(self, nama, usia, pendapatan, \n",
        "                 insentif_lembur = 75000 * 8):\n",
        "        super().__init__(nama, usia, pendapatan, insentif_lembur) \n",
        "\n",
        "# Definisikan class JuniorManajer sebagai child class dari class Karyawan\n",
        "class JuniorManajer(Karyawan):\n",
        "    def __init__(self, nama, usia, pendapatan, \n",
        "                 insentif_lembur = 125000 * 6):\n",
        "        super().__init__(nama, usia, pendapatan, insentif_lembur)\n",
        "\n",
        "# Definisikan class Manajer sebagai child class dari class Karyawan\n",
        "class Manajer(Karyawan):\n",
        "    def __init__(self, nama, usia, pendapatan, \n",
        "                 insentif_lembur = 250000 * 4):\n",
        "        super().__init__(nama, usia, pendapatan, insentif_lembur)\n",
        "# Definisikan class General Manajer sebagai child class dari class Karyawan\n",
        "class GeneralManajer(Karyawan):\n",
        "    def __init__(self, nama, usia, pendapatan, insentif_lembur = 0):\n",
        "        super().__init__(nama, usia, pendapatan, insentif_lembur)        \n",
        "      \n",
        "# Definisikan class Satpam sebagai child class dari class Karyawan\n",
        "class Satpam(Karyawan):\n",
        "    def __init__(self, nama, usia, pendapatan, insentif_lembur = 0):\n",
        "        super().__init__(nama, usia, pendapatan, insentif_lembur)\n",
        "\n",
        "# Definisikan class Perusahaan \n",
        "class Perusahaan:\n",
        "    def __init__(self, nama, alamat, nomor_telepon): \n",
        "        self.nama = nama\n",
        "        self.alamat = alamat \n",
        "        self.nomor_telepon = nomor_telepon \n",
        "        self.list_karyawan = []\n",
        "    def aktifkan_karyawan(self, karyawan): \n",
        "        self.list_karyawan.append(karyawan)\n",
        "    def nonaktifkan_karyawan(self, nama_karyawan): \n",
        "        karyawan_nonaktif = None\n",
        "        for karyawan in self.list_karyawan:\n",
        "            if karyawan.nama == nama_karyawan: \n",
        "                karyawan_nonaktif = karyawan \n",
        "                break\n",
        "        if karyawan_nonaktif is not None: \n",
        "            self.list_karyawan.remove(karyawan_nonaktif)\n",
        "    def total_pengeluaran(self): \n",
        "        pengeluaran = 0\n",
        "        for karyawan in self.list_karyawan:\n",
        "            pengeluaran += karyawan.total_pendapatan() \n",
        "        return pengeluaran\n",
        "    def cari_karyawan(self, nama_karyawan): \n",
        "        for karyawan in self.list_karyawan:\n",
        "            if karyawan.nama == nama_karyawan: \n",
        "                return karyawan\n",
        "        return None\n",
        "\n",
        "# Create object karyawan sesuai dengan tugasnya masing-masing\n",
        "# seperti yang dinyatakan dalam tabel.\n",
        "\n",
        "Fitri = StafManajer('Fitri', 25, 4500000)\n",
        "Fikri = StafManajer('Fikri', 33, 4500000)\n",
        "Renaldi = JuniorManajer('Renaldi', 25, 6200000)\n",
        "Victor = JuniorManajer('Victor', 29, 6200000)\n",
        "Naufal = JuniorManajer('Naufal', 27,6200000)\n",
        "Galih = Satpam('Galih', 35, 3500000)\n",
        "Julius = Manajer('Julius', 36, 8450000)\n",
        "Kamil = GeneralManajer('Kamil', 32, 12500000)\n",
        "\n",
        "# Create object perusahaan\n",
        "perusahaan = Perusahaan('ABC','Jl. Jendral Sudirman, Blok 11', '(021) 95812XX')\n",
        "\n",
        "#Aktifkan setiap karyawan yang telah didefinisikan\n",
        "perusahaan.aktifkan_karyawan(Fitri)\n",
        "perusahaan.aktifkan_karyawan(Fikri)\n",
        "perusahaan.aktifkan_karyawan(Renaldi)\n",
        "perusahaan.aktifkan_karyawan(Victor)\n",
        "perusahaan.aktifkan_karyawan(Naufal)\n",
        "perusahaan.aktifkan_karyawan(Galih)\n",
        "perusahaan.aktifkan_karyawan(Julius)\n",
        "perusahaan.aktifkan_karyawan(Kamil)\n",
        "\n",
        "# Cetak keseluruhan total pengeluaran perusahaan\n",
        "print(perusahaan.total_pengeluaran())"
      ],
      "metadata": {
        "colab": {
          "base_uri": "https://localhost:8080/"
        },
        "id": "9LvFeBCHdd0T",
        "outputId": "5a08a247-4047-4a2e-b7ca-a2f5e5fa958e"
      },
      "execution_count": null,
      "outputs": [
        {
          "output_type": "stream",
          "name": "stdout",
          "text": [
            "56500000\n"
          ]
        }
      ]
    },
    {
      "cell_type": "code",
      "source": [
        ""
      ],
      "metadata": {
        "id": "4XImQeRARudB"
      },
      "execution_count": null,
      "outputs": []
    }
  ]
}