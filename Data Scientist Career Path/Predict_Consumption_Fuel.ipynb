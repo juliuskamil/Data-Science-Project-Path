{
  "nbformat": 4,
  "nbformat_minor": 0,
  "metadata": {
    "colab": {
      "name": "Predict Consumption Fuel.ipynb",
      "provenance": []
    },
    "kernelspec": {
      "name": "python3",
      "display_name": "Python 3"
    },
    "language_info": {
      "name": "python"
    }
  },
  "cells": [
    {
      "cell_type": "code",
      "execution_count": 21,
      "metadata": {
        "id": "gCJOWxShHRYV"
      },
      "outputs": [],
      "source": [
        "import os\n",
        "import pandas as pd\n",
        "import numpy as np\n",
        "import matplotlib.pyplot as plt\n",
        "import seaborn as sns"
      ]
    },
    {
      "cell_type": "code",
      "source": [
        "df = pd.read_excel('/content/drive/MyDrive/data_science/dataset/dataset2.xlsx')\n",
        "df.head()"
      ],
      "metadata": {
        "colab": {
          "base_uri": "https://localhost:8080/",
          "height": 392
        },
        "id": "AaBJ2jfSHu3Z",
        "outputId": "9efe850c-b1cf-40c1-a738-36fe4df17ae6"
      },
      "execution_count": 23,
      "outputs": [
        {
          "output_type": "execute_result",
          "data": {
            "text/html": [
              "\n",
              "  <div id=\"df-39abd2da-e2ad-44b9-946f-6d790fd6e801\">\n",
              "    <div class=\"colab-df-container\">\n",
              "      <div>\n",
              "<style scoped>\n",
              "    .dataframe tbody tr th:only-of-type {\n",
              "        vertical-align: middle;\n",
              "    }\n",
              "\n",
              "    .dataframe tbody tr th {\n",
              "        vertical-align: top;\n",
              "    }\n",
              "\n",
              "    .dataframe thead th {\n",
              "        text-align: right;\n",
              "    }\n",
              "</style>\n",
              "<table border=\"1\" class=\"dataframe\">\n",
              "  <thead>\n",
              "    <tr style=\"text-align: right;\">\n",
              "      <th></th>\n",
              "      <th>DATE</th>\n",
              "      <th>SEA</th>\n",
              "      <th>WIND</th>\n",
              "      <th>STEAM TIME</th>\n",
              "      <th>OBS MILES</th>\n",
              "      <th>AVE SPD</th>\n",
              "      <th>STEAM TIME.1</th>\n",
              "      <th>OBS MILES.1</th>\n",
              "      <th>AVE SPD.1</th>\n",
              "      <th>DIST TO GO</th>\n",
              "      <th>DIST RUN</th>\n",
              "      <th>LOG SPD</th>\n",
              "      <th>DIST RUN.1</th>\n",
              "      <th>LOG SPD.1</th>\n",
              "      <th>MFO</th>\n",
              "    </tr>\n",
              "  </thead>\n",
              "  <tbody>\n",
              "    <tr>\n",
              "      <th>0</th>\n",
              "      <td>2020-01-01</td>\n",
              "      <td>3</td>\n",
              "      <td>4</td>\n",
              "      <td>0</td>\n",
              "      <td>0</td>\n",
              "      <td>0.000000</td>\n",
              "      <td>0</td>\n",
              "      <td>0</td>\n",
              "      <td>0.000000</td>\n",
              "      <td>1341</td>\n",
              "      <td>0</td>\n",
              "      <td>0.000000</td>\n",
              "      <td>0</td>\n",
              "      <td>0.000000</td>\n",
              "      <td>0.00</td>\n",
              "    </tr>\n",
              "    <tr>\n",
              "      <th>1</th>\n",
              "      <td>2020-01-02</td>\n",
              "      <td>2</td>\n",
              "      <td>3</td>\n",
              "      <td>16</td>\n",
              "      <td>234</td>\n",
              "      <td>14.625000</td>\n",
              "      <td>16</td>\n",
              "      <td>234</td>\n",
              "      <td>14.625000</td>\n",
              "      <td>1107</td>\n",
              "      <td>230</td>\n",
              "      <td>14.375000</td>\n",
              "      <td>230</td>\n",
              "      <td>14.375000</td>\n",
              "      <td>1.75</td>\n",
              "    </tr>\n",
              "    <tr>\n",
              "      <th>2</th>\n",
              "      <td>2020-01-03</td>\n",
              "      <td>3</td>\n",
              "      <td>4</td>\n",
              "      <td>24</td>\n",
              "      <td>349</td>\n",
              "      <td>14.541667</td>\n",
              "      <td>40</td>\n",
              "      <td>583</td>\n",
              "      <td>14.575000</td>\n",
              "      <td>758</td>\n",
              "      <td>348</td>\n",
              "      <td>14.500000</td>\n",
              "      <td>578</td>\n",
              "      <td>14.450000</td>\n",
              "      <td>2.95</td>\n",
              "    </tr>\n",
              "    <tr>\n",
              "      <th>3</th>\n",
              "      <td>2020-01-04</td>\n",
              "      <td>3</td>\n",
              "      <td>4</td>\n",
              "      <td>23</td>\n",
              "      <td>317</td>\n",
              "      <td>13.782609</td>\n",
              "      <td>63</td>\n",
              "      <td>900</td>\n",
              "      <td>14.285714</td>\n",
              "      <td>441</td>\n",
              "      <td>325</td>\n",
              "      <td>14.130435</td>\n",
              "      <td>903</td>\n",
              "      <td>14.333333</td>\n",
              "      <td>2.95</td>\n",
              "    </tr>\n",
              "    <tr>\n",
              "      <th>4</th>\n",
              "      <td>2020-01-05</td>\n",
              "      <td>2</td>\n",
              "      <td>3</td>\n",
              "      <td>24</td>\n",
              "      <td>321</td>\n",
              "      <td>13.375000</td>\n",
              "      <td>87</td>\n",
              "      <td>1221</td>\n",
              "      <td>14.034483</td>\n",
              "      <td>120</td>\n",
              "      <td>326</td>\n",
              "      <td>13.583333</td>\n",
              "      <td>1229</td>\n",
              "      <td>14.126437</td>\n",
              "      <td>2.95</td>\n",
              "    </tr>\n",
              "  </tbody>\n",
              "</table>\n",
              "</div>\n",
              "      <button class=\"colab-df-convert\" onclick=\"convertToInteractive('df-39abd2da-e2ad-44b9-946f-6d790fd6e801')\"\n",
              "              title=\"Convert this dataframe to an interactive table.\"\n",
              "              style=\"display:none;\">\n",
              "        \n",
              "  <svg xmlns=\"http://www.w3.org/2000/svg\" height=\"24px\"viewBox=\"0 0 24 24\"\n",
              "       width=\"24px\">\n",
              "    <path d=\"M0 0h24v24H0V0z\" fill=\"none\"/>\n",
              "    <path d=\"M18.56 5.44l.94 2.06.94-2.06 2.06-.94-2.06-.94-.94-2.06-.94 2.06-2.06.94zm-11 1L8.5 8.5l.94-2.06 2.06-.94-2.06-.94L8.5 2.5l-.94 2.06-2.06.94zm10 10l.94 2.06.94-2.06 2.06-.94-2.06-.94-.94-2.06-.94 2.06-2.06.94z\"/><path d=\"M17.41 7.96l-1.37-1.37c-.4-.4-.92-.59-1.43-.59-.52 0-1.04.2-1.43.59L10.3 9.45l-7.72 7.72c-.78.78-.78 2.05 0 2.83L4 21.41c.39.39.9.59 1.41.59.51 0 1.02-.2 1.41-.59l7.78-7.78 2.81-2.81c.8-.78.8-2.07 0-2.86zM5.41 20L4 18.59l7.72-7.72 1.47 1.35L5.41 20z\"/>\n",
              "  </svg>\n",
              "      </button>\n",
              "      \n",
              "  <style>\n",
              "    .colab-df-container {\n",
              "      display:flex;\n",
              "      flex-wrap:wrap;\n",
              "      gap: 12px;\n",
              "    }\n",
              "\n",
              "    .colab-df-convert {\n",
              "      background-color: #E8F0FE;\n",
              "      border: none;\n",
              "      border-radius: 50%;\n",
              "      cursor: pointer;\n",
              "      display: none;\n",
              "      fill: #1967D2;\n",
              "      height: 32px;\n",
              "      padding: 0 0 0 0;\n",
              "      width: 32px;\n",
              "    }\n",
              "\n",
              "    .colab-df-convert:hover {\n",
              "      background-color: #E2EBFA;\n",
              "      box-shadow: 0px 1px 2px rgba(60, 64, 67, 0.3), 0px 1px 3px 1px rgba(60, 64, 67, 0.15);\n",
              "      fill: #174EA6;\n",
              "    }\n",
              "\n",
              "    [theme=dark] .colab-df-convert {\n",
              "      background-color: #3B4455;\n",
              "      fill: #D2E3FC;\n",
              "    }\n",
              "\n",
              "    [theme=dark] .colab-df-convert:hover {\n",
              "      background-color: #434B5C;\n",
              "      box-shadow: 0px 1px 3px 1px rgba(0, 0, 0, 0.15);\n",
              "      filter: drop-shadow(0px 1px 2px rgba(0, 0, 0, 0.3));\n",
              "      fill: #FFFFFF;\n",
              "    }\n",
              "  </style>\n",
              "\n",
              "      <script>\n",
              "        const buttonEl =\n",
              "          document.querySelector('#df-39abd2da-e2ad-44b9-946f-6d790fd6e801 button.colab-df-convert');\n",
              "        buttonEl.style.display =\n",
              "          google.colab.kernel.accessAllowed ? 'block' : 'none';\n",
              "\n",
              "        async function convertToInteractive(key) {\n",
              "          const element = document.querySelector('#df-39abd2da-e2ad-44b9-946f-6d790fd6e801');\n",
              "          const dataTable =\n",
              "            await google.colab.kernel.invokeFunction('convertToInteractive',\n",
              "                                                     [key], {});\n",
              "          if (!dataTable) return;\n",
              "\n",
              "          const docLinkHtml = 'Like what you see? Visit the ' +\n",
              "            '<a target=\"_blank\" href=https://colab.research.google.com/notebooks/data_table.ipynb>data table notebook</a>'\n",
              "            + ' to learn more about interactive tables.';\n",
              "          element.innerHTML = '';\n",
              "          dataTable['output_type'] = 'display_data';\n",
              "          await google.colab.output.renderOutput(dataTable, element);\n",
              "          const docLink = document.createElement('div');\n",
              "          docLink.innerHTML = docLinkHtml;\n",
              "          element.appendChild(docLink);\n",
              "        }\n",
              "      </script>\n",
              "    </div>\n",
              "  </div>\n",
              "  "
            ],
            "text/plain": [
              "        DATE  SEA  WIND  STEAM TIME  ...    LOG SPD  DIST RUN.1  LOG SPD.1   MFO\n",
              "0 2020-01-01    3     4           0  ...   0.000000           0   0.000000  0.00\n",
              "1 2020-01-02    2     3          16  ...  14.375000         230  14.375000  1.75\n",
              "2 2020-01-03    3     4          24  ...  14.500000         578  14.450000  2.95\n",
              "3 2020-01-04    3     4          23  ...  14.130435         903  14.333333  2.95\n",
              "4 2020-01-05    2     3          24  ...  13.583333        1229  14.126437  2.95\n",
              "\n",
              "[5 rows x 15 columns]"
            ]
          },
          "metadata": {},
          "execution_count": 23
        }
      ]
    },
    {
      "cell_type": "code",
      "source": [
        "df.describe()"
      ],
      "metadata": {
        "colab": {
          "base_uri": "https://localhost:8080/",
          "height": 381
        },
        "id": "x5GojQhzINjG",
        "outputId": "cb14883f-8dc7-41f6-c572-3c8bb62fa1b9"
      },
      "execution_count": 24,
      "outputs": [
        {
          "output_type": "execute_result",
          "data": {
            "text/html": [
              "\n",
              "  <div id=\"df-0d77e4d6-e9b9-4e71-90f8-210f8dbd20c4\">\n",
              "    <div class=\"colab-df-container\">\n",
              "      <div>\n",
              "<style scoped>\n",
              "    .dataframe tbody tr th:only-of-type {\n",
              "        vertical-align: middle;\n",
              "    }\n",
              "\n",
              "    .dataframe tbody tr th {\n",
              "        vertical-align: top;\n",
              "    }\n",
              "\n",
              "    .dataframe thead th {\n",
              "        text-align: right;\n",
              "    }\n",
              "</style>\n",
              "<table border=\"1\" class=\"dataframe\">\n",
              "  <thead>\n",
              "    <tr style=\"text-align: right;\">\n",
              "      <th></th>\n",
              "      <th>SEA</th>\n",
              "      <th>WIND</th>\n",
              "      <th>STEAM TIME</th>\n",
              "      <th>OBS MILES</th>\n",
              "      <th>AVE SPD</th>\n",
              "      <th>STEAM TIME.1</th>\n",
              "      <th>OBS MILES.1</th>\n",
              "      <th>AVE SPD.1</th>\n",
              "      <th>DIST TO GO</th>\n",
              "      <th>DIST RUN</th>\n",
              "      <th>LOG SPD</th>\n",
              "      <th>DIST RUN.1</th>\n",
              "      <th>LOG SPD.1</th>\n",
              "      <th>MFO</th>\n",
              "    </tr>\n",
              "  </thead>\n",
              "  <tbody>\n",
              "    <tr>\n",
              "      <th>count</th>\n",
              "      <td>19.000000</td>\n",
              "      <td>19.000000</td>\n",
              "      <td>19.000000</td>\n",
              "      <td>19.000000</td>\n",
              "      <td>19.000000</td>\n",
              "      <td>19.000000</td>\n",
              "      <td>19.000000</td>\n",
              "      <td>19.000000</td>\n",
              "      <td>19.000000</td>\n",
              "      <td>19.000000</td>\n",
              "      <td>19.000000</td>\n",
              "      <td>19.000000</td>\n",
              "      <td>19.000000</td>\n",
              "      <td>19.000000</td>\n",
              "    </tr>\n",
              "    <tr>\n",
              "      <th>mean</th>\n",
              "      <td>2.631579</td>\n",
              "      <td>3.368421</td>\n",
              "      <td>18.842105</td>\n",
              "      <td>235.526316</td>\n",
              "      <td>10.405286</td>\n",
              "      <td>63.473684</td>\n",
              "      <td>842.578947</td>\n",
              "      <td>11.306387</td>\n",
              "      <td>744.631579</td>\n",
              "      <td>219.894737</td>\n",
              "      <td>9.541582</td>\n",
              "      <td>827.578947</td>\n",
              "      <td>11.179354</td>\n",
              "      <td>2.031053</td>\n",
              "    </tr>\n",
              "    <tr>\n",
              "      <th>std</th>\n",
              "      <td>0.597265</td>\n",
              "      <td>0.597265</td>\n",
              "      <td>8.738568</td>\n",
              "      <td>125.841332</td>\n",
              "      <td>5.261003</td>\n",
              "      <td>48.627117</td>\n",
              "      <td>640.485260</td>\n",
              "      <td>5.084467</td>\n",
              "      <td>645.130840</td>\n",
              "      <td>144.100619</td>\n",
              "      <td>6.151439</td>\n",
              "      <td>618.975526</td>\n",
              "      <td>5.069814</td>\n",
              "      <td>0.966919</td>\n",
              "    </tr>\n",
              "    <tr>\n",
              "      <th>min</th>\n",
              "      <td>2.000000</td>\n",
              "      <td>2.000000</td>\n",
              "      <td>0.000000</td>\n",
              "      <td>0.000000</td>\n",
              "      <td>0.000000</td>\n",
              "      <td>0.000000</td>\n",
              "      <td>0.000000</td>\n",
              "      <td>0.000000</td>\n",
              "      <td>0.000000</td>\n",
              "      <td>0.000000</td>\n",
              "      <td>0.000000</td>\n",
              "      <td>0.000000</td>\n",
              "      <td>0.000000</td>\n",
              "      <td>0.000000</td>\n",
              "    </tr>\n",
              "    <tr>\n",
              "      <th>25%</th>\n",
              "      <td>2.000000</td>\n",
              "      <td>3.000000</td>\n",
              "      <td>18.000000</td>\n",
              "      <td>161.000000</td>\n",
              "      <td>8.315789</td>\n",
              "      <td>23.000000</td>\n",
              "      <td>309.000000</td>\n",
              "      <td>12.529762</td>\n",
              "      <td>161.000000</td>\n",
              "      <td>60.500000</td>\n",
              "      <td>2.880952</td>\n",
              "      <td>309.500000</td>\n",
              "      <td>12.213190</td>\n",
              "      <td>1.850000</td>\n",
              "    </tr>\n",
              "    <tr>\n",
              "      <th>50%</th>\n",
              "      <td>3.000000</td>\n",
              "      <td>3.000000</td>\n",
              "      <td>24.000000</td>\n",
              "      <td>317.000000</td>\n",
              "      <td>13.416667</td>\n",
              "      <td>63.000000</td>\n",
              "      <td>885.000000</td>\n",
              "      <td>13.458333</td>\n",
              "      <td>693.000000</td>\n",
              "      <td>321.000000</td>\n",
              "      <td>13.416667</td>\n",
              "      <td>884.000000</td>\n",
              "      <td>13.500000</td>\n",
              "      <td>2.450000</td>\n",
              "    </tr>\n",
              "    <tr>\n",
              "      <th>75%</th>\n",
              "      <td>3.000000</td>\n",
              "      <td>4.000000</td>\n",
              "      <td>24.000000</td>\n",
              "      <td>324.000000</td>\n",
              "      <td>13.562500</td>\n",
              "      <td>91.500000</td>\n",
              "      <td>1258.000000</td>\n",
              "      <td>13.503472</td>\n",
              "      <td>1142.500000</td>\n",
              "      <td>325.000000</td>\n",
              "      <td>13.562500</td>\n",
              "      <td>1263.500000</td>\n",
              "      <td>13.604167</td>\n",
              "      <td>2.450000</td>\n",
              "    </tr>\n",
              "    <tr>\n",
              "      <th>max</th>\n",
              "      <td>4.000000</td>\n",
              "      <td>4.000000</td>\n",
              "      <td>24.000000</td>\n",
              "      <td>349.000000</td>\n",
              "      <td>14.625000</td>\n",
              "      <td>163.000000</td>\n",
              "      <td>2147.000000</td>\n",
              "      <td>14.625000</td>\n",
              "      <td>2147.000000</td>\n",
              "      <td>348.000000</td>\n",
              "      <td>14.500000</td>\n",
              "      <td>1944.000000</td>\n",
              "      <td>14.450000</td>\n",
              "      <td>2.950000</td>\n",
              "    </tr>\n",
              "  </tbody>\n",
              "</table>\n",
              "</div>\n",
              "      <button class=\"colab-df-convert\" onclick=\"convertToInteractive('df-0d77e4d6-e9b9-4e71-90f8-210f8dbd20c4')\"\n",
              "              title=\"Convert this dataframe to an interactive table.\"\n",
              "              style=\"display:none;\">\n",
              "        \n",
              "  <svg xmlns=\"http://www.w3.org/2000/svg\" height=\"24px\"viewBox=\"0 0 24 24\"\n",
              "       width=\"24px\">\n",
              "    <path d=\"M0 0h24v24H0V0z\" fill=\"none\"/>\n",
              "    <path d=\"M18.56 5.44l.94 2.06.94-2.06 2.06-.94-2.06-.94-.94-2.06-.94 2.06-2.06.94zm-11 1L8.5 8.5l.94-2.06 2.06-.94-2.06-.94L8.5 2.5l-.94 2.06-2.06.94zm10 10l.94 2.06.94-2.06 2.06-.94-2.06-.94-.94-2.06-.94 2.06-2.06.94z\"/><path d=\"M17.41 7.96l-1.37-1.37c-.4-.4-.92-.59-1.43-.59-.52 0-1.04.2-1.43.59L10.3 9.45l-7.72 7.72c-.78.78-.78 2.05 0 2.83L4 21.41c.39.39.9.59 1.41.59.51 0 1.02-.2 1.41-.59l7.78-7.78 2.81-2.81c.8-.78.8-2.07 0-2.86zM5.41 20L4 18.59l7.72-7.72 1.47 1.35L5.41 20z\"/>\n",
              "  </svg>\n",
              "      </button>\n",
              "      \n",
              "  <style>\n",
              "    .colab-df-container {\n",
              "      display:flex;\n",
              "      flex-wrap:wrap;\n",
              "      gap: 12px;\n",
              "    }\n",
              "\n",
              "    .colab-df-convert {\n",
              "      background-color: #E8F0FE;\n",
              "      border: none;\n",
              "      border-radius: 50%;\n",
              "      cursor: pointer;\n",
              "      display: none;\n",
              "      fill: #1967D2;\n",
              "      height: 32px;\n",
              "      padding: 0 0 0 0;\n",
              "      width: 32px;\n",
              "    }\n",
              "\n",
              "    .colab-df-convert:hover {\n",
              "      background-color: #E2EBFA;\n",
              "      box-shadow: 0px 1px 2px rgba(60, 64, 67, 0.3), 0px 1px 3px 1px rgba(60, 64, 67, 0.15);\n",
              "      fill: #174EA6;\n",
              "    }\n",
              "\n",
              "    [theme=dark] .colab-df-convert {\n",
              "      background-color: #3B4455;\n",
              "      fill: #D2E3FC;\n",
              "    }\n",
              "\n",
              "    [theme=dark] .colab-df-convert:hover {\n",
              "      background-color: #434B5C;\n",
              "      box-shadow: 0px 1px 3px 1px rgba(0, 0, 0, 0.15);\n",
              "      filter: drop-shadow(0px 1px 2px rgba(0, 0, 0, 0.3));\n",
              "      fill: #FFFFFF;\n",
              "    }\n",
              "  </style>\n",
              "\n",
              "      <script>\n",
              "        const buttonEl =\n",
              "          document.querySelector('#df-0d77e4d6-e9b9-4e71-90f8-210f8dbd20c4 button.colab-df-convert');\n",
              "        buttonEl.style.display =\n",
              "          google.colab.kernel.accessAllowed ? 'block' : 'none';\n",
              "\n",
              "        async function convertToInteractive(key) {\n",
              "          const element = document.querySelector('#df-0d77e4d6-e9b9-4e71-90f8-210f8dbd20c4');\n",
              "          const dataTable =\n",
              "            await google.colab.kernel.invokeFunction('convertToInteractive',\n",
              "                                                     [key], {});\n",
              "          if (!dataTable) return;\n",
              "\n",
              "          const docLinkHtml = 'Like what you see? Visit the ' +\n",
              "            '<a target=\"_blank\" href=https://colab.research.google.com/notebooks/data_table.ipynb>data table notebook</a>'\n",
              "            + ' to learn more about interactive tables.';\n",
              "          element.innerHTML = '';\n",
              "          dataTable['output_type'] = 'display_data';\n",
              "          await google.colab.output.renderOutput(dataTable, element);\n",
              "          const docLink = document.createElement('div');\n",
              "          docLink.innerHTML = docLinkHtml;\n",
              "          element.appendChild(docLink);\n",
              "        }\n",
              "      </script>\n",
              "    </div>\n",
              "  </div>\n",
              "  "
            ],
            "text/plain": [
              "             SEA       WIND  STEAM TIME  ...   DIST RUN.1  LOG SPD.1        MFO\n",
              "count  19.000000  19.000000   19.000000  ...    19.000000  19.000000  19.000000\n",
              "mean    2.631579   3.368421   18.842105  ...   827.578947  11.179354   2.031053\n",
              "std     0.597265   0.597265    8.738568  ...   618.975526   5.069814   0.966919\n",
              "min     2.000000   2.000000    0.000000  ...     0.000000   0.000000   0.000000\n",
              "25%     2.000000   3.000000   18.000000  ...   309.500000  12.213190   1.850000\n",
              "50%     3.000000   3.000000   24.000000  ...   884.000000  13.500000   2.450000\n",
              "75%     3.000000   4.000000   24.000000  ...  1263.500000  13.604167   2.450000\n",
              "max     4.000000   4.000000   24.000000  ...  1944.000000  14.450000   2.950000\n",
              "\n",
              "[8 rows x 14 columns]"
            ]
          },
          "metadata": {},
          "execution_count": 24
        }
      ]
    },
    {
      "cell_type": "code",
      "source": [
        "df.isna().sum()"
      ],
      "metadata": {
        "colab": {
          "base_uri": "https://localhost:8080/"
        },
        "id": "Nq1_9xhFTJLO",
        "outputId": "1fd4066c-f875-49b9-8201-ed58669d4f81"
      },
      "execution_count": 25,
      "outputs": [
        {
          "output_type": "execute_result",
          "data": {
            "text/plain": [
              "DATE            0\n",
              "SEA             0\n",
              "WIND            0\n",
              "STEAM TIME      0\n",
              "OBS MILES       0\n",
              "AVE SPD         0\n",
              "STEAM TIME.1    0\n",
              "OBS MILES.1     0\n",
              "AVE SPD.1       0\n",
              "DIST TO GO      0\n",
              "DIST RUN        0\n",
              "LOG SPD         0\n",
              "DIST RUN.1      0\n",
              "LOG SPD.1       0\n",
              "MFO             0\n",
              "dtype: int64"
            ]
          },
          "metadata": {},
          "execution_count": 25
        }
      ]
    },
    {
      "cell_type": "code",
      "source": [
        "# Melihat korelasi antar fitur\n",
        "df_corr = df.corr()\n",
        "sns.heatmap(df_corr, annot = True)"
      ],
      "metadata": {
        "colab": {
          "base_uri": "https://localhost:8080/",
          "height": 348
        },
        "id": "vuf4BQ1HIa4u",
        "outputId": "2991fae9-3387-45e2-edca-790442a3b9d8"
      },
      "execution_count": 26,
      "outputs": [
        {
          "output_type": "execute_result",
          "data": {
            "text/plain": [
              "<matplotlib.axes._subplots.AxesSubplot at 0x7f3d1d4b0690>"
            ]
          },
          "metadata": {},
          "execution_count": 26
        },
        {
          "output_type": "display_data",
          "data": {
            "image/png": "[encoded data removed]",
            "text/plain": [
              "<Figure size 432x288 with 2 Axes>"
            ]
          },
          "metadata": {
            "needs_background": "light"
          }
        }
      ]
    },
    {
      "cell_type": "code",
      "source": [
        ""
      ],
      "metadata": {
        "id": "686eE_B1I7RX"
      },
      "execution_count": null,
      "outputs": []
    },
    {
      "cell_type": "code",
      "source": [
        "df_corr['MFO'].sort_values(ascending = False)"
      ],
      "metadata": {
        "colab": {
          "base_uri": "https://localhost:8080/"
        },
        "id": "zSYAI3DXIohC",
        "outputId": "0b3cbb91-cc86-4bcf-9c32-9e618d3bbd47"
      },
      "execution_count": 28,
      "outputs": [
        {
          "output_type": "execute_result",
          "data": {
            "text/plain": [
              "MFO             1.000000\n",
              "STEAM TIME      0.974373\n",
              "LOG SPD.1       0.955508\n",
              "AVE SPD.1       0.943930\n",
              "OBS MILES       0.895105\n",
              "AVE SPD         0.879047\n",
              "DIST RUN        0.821235\n",
              "LOG SPD         0.800166\n",
              "DIST RUN.1      0.532414\n",
              "OBS MILES.1     0.505336\n",
              "STEAM TIME.1    0.486003\n",
              "WIND            0.378315\n",
              "SEA             0.344139\n",
              "DIST TO GO     -0.465006\n",
              "Name: MFO, dtype: float64"
            ]
          },
          "metadata": {},
          "execution_count": 28
        }
      ]
    },
    {
      "cell_type": "code",
      "source": [
        "column_sets = ['SEA', 'WIND', 'STEAM TIME', 'OBS MILES', 'AVE SPD', 'STEAM TIME.1', 'OBS MILES.1', 'AVE SPD.1', 'DIST RUN', 'LOG SPD', 'DIST RUN.1', 'LOG SPD.1']\n",
        "#x = df.drop(columns='HARGA', axis=1)\n",
        "X = df[['SEA', 'WIND', 'STEAM TIME', 'OBS MILES', 'AVE SPD', 'STEAM TIME.1', 'OBS MILES.1', 'AVE SPD.1', 'DIST RUN', 'LOG SPD', 'DIST RUN.1', 'LOG SPD.1']]\n",
        "y = df['MFO']"
      ],
      "metadata": {
        "id": "WxhlOsOBJIXz"
      },
      "execution_count": 32,
      "outputs": []
    },
    {
      "cell_type": "code",
      "source": [
        "#Bivariate analysis antara independent variable dan dependent variable.\n",
        "\n",
        "plt.figure(figsize=(10,8))\n",
        "sns.pairplot(data=df, x_vars=['SEA', 'WIND', 'STEAM TIME', 'OBS MILES', 'AVE SPD', 'STEAM TIME.1', 'OBS MILES.1', 'AVE SPD.1', 'DIST RUN', 'LOG SPD', 'DIST RUN.1', 'LOG SPD.1'], y_vars=['MFO'], size=5, aspect=0.80)"
      ],
      "metadata": {
        "colab": {
          "base_uri": "https://localhost:8080/",
          "height": 192
        },
        "id": "yibbX8JISYKY",
        "outputId": "28019e7d-bbfa-4c83-b6d9-dd396779cea8"
      },
      "execution_count": 38,
      "outputs": [
        {
          "output_type": "stream",
          "name": "stderr",
          "text": [
            "/usr/local/lib/python3.7/dist-packages/seaborn/axisgrid.py:2076: UserWarning: The `size` parameter has been renamed to `height`; please update your code.\n",
            "  warnings.warn(msg, UserWarning)\n"
          ]
        },
        {
          "output_type": "execute_result",
          "data": {
            "text/plain": [
              "<seaborn.axisgrid.PairGrid at 0x7f3d1d52ad10>"
            ]
          },
          "metadata": {},
          "execution_count": 38
        },
        {
          "output_type": "display_data",
          "data": {
            "text/plain": [
              "<Figure size 720x576 with 0 Axes>"
            ]
          },
          "metadata": {}
        },
        {
          "output_type": "display_data",
          "data": {
            "image/png": "[encoded data removed]",
            "text/plain": [
              "<Figure size 3456x360 with 12 Axes>"
            ]
          },
          "metadata": {
            "needs_background": "light"
          }
        }
      ]
    },
    {
      "cell_type": "code",
      "source": [
        "from sklearn.model_selection import train_test_split\n",
        "from sklearn.linear_model import LinearRegression\n",
        "from sklearn import metrics\n",
        "X_train, X_test, y_train, y_test = train_test_split(X, y, test_size=0.2, random_state=10)"
      ],
      "metadata": {
        "id": "zvyUuQWfSweU"
      },
      "execution_count": 34,
      "outputs": []
    },
    {
      "cell_type": "code",
      "source": [
        "model_lr = LinearRegression()\n",
        "model_lr.fit(X_train, y_train) # Training step"
      ],
      "metadata": {
        "colab": {
          "base_uri": "https://localhost:8080/"
        },
        "id": "shw8LENHS1Cl",
        "outputId": "98cc549b-3e02-4e6e-f6e6-2675adf72eb7"
      },
      "execution_count": 35,
      "outputs": [
        {
          "output_type": "execute_result",
          "data": {
            "text/plain": [
              "LinearRegression()"
            ]
          },
          "metadata": {},
          "execution_count": 35
        }
      ]
    },
    {
      "cell_type": "code",
      "source": [
        "#Keempat, train the model menggunakan training data yang sudah displit.\n",
        "model_lr.fit(X_train, y_train)\n",
        "y_pred = model_lr.predict(X_test)"
      ],
      "metadata": {
        "id": "n7KgbM3TWR7l"
      },
      "execution_count": 36,
      "outputs": []
    },
    {
      "cell_type": "code",
      "source": [
        "# Model prediction on train data\n",
        "y_pred = model_lr.predict(X_train)\n",
        "# Model Evaluation\n",
        "print('R^2:',metrics.r2_score(y_train, y_pred))\n",
        "print('Adjusted R^2:',1 - (1-metrics.r2_score(y_train, y_pred))*(len(y_train)-1)/(len(y_train)-X_train.shape[1]-1))\n",
        "print('MAE:',metrics.mean_absolute_error(y_train, y_pred))\n",
        "print('MSE:',metrics.mean_squared_error(y_train, y_pred))\n",
        "print('RMSE:',np.sqrt(metrics.mean_squared_error(y_train, y_pred)))"
      ],
      "metadata": {
        "colab": {
          "base_uri": "https://localhost:8080/"
        },
        "id": "c4_SbNOAWWCG",
        "outputId": "6cfd8381-8e25-4a98-f272-4693fd9ed27c"
      },
      "execution_count": 37,
      "outputs": [
        {
          "output_type": "stream",
          "name": "stdout",
          "text": [
            "R^2: 0.9997489094753061\n",
            "Adjusted R^2: 0.998242366327143\n",
            "MAE: 0.011608741063295699\n",
            "MSE: 0.00025347019329319465\n",
            "RMSE: 0.01592074725925874\n"
          ]
        }
      ]
    },
    {
      "cell_type": "code",
      "source": [
        "#Prediksi harga rumah idaman Joko.\n",
        "model_lr.predict([['3', '4', '24', '322', '13.42', '49', '646', '13.18', '325', '13.54', '327', '13.08']])"
      ],
      "metadata": {
        "colab": {
          "base_uri": "https://localhost:8080/"
        },
        "id": "Jpc28y_ZWpyl",
        "outputId": "50b4e641-0cbe-4d5e-f5e3-a904e86c9c78"
      },
      "execution_count": 41,
      "outputs": [
        {
          "output_type": "stream",
          "name": "stderr",
          "text": [
            "/usr/local/lib/python3.7/dist-packages/sklearn/base.py:451: UserWarning: X does not have valid feature names, but LinearRegression was fitted with feature names\n",
            "  \"X does not have valid feature names, but\"\n",
            "/usr/local/lib/python3.7/dist-packages/sklearn/base.py:566: FutureWarning: Arrays of bytes/strings is being converted to decimal numbers if dtype='numeric'. This behavior is deprecated in 0.24 and will be removed in 1.1 (renaming of 0.26). Please convert your data to numeric values explicitly instead.\n",
            "  X = check_array(X, **check_params)\n"
          ]
        },
        {
          "output_type": "execute_result",
          "data": {
            "text/plain": [
              "array([2.51470631])"
            ]
          },
          "metadata": {},
          "execution_count": 41
        }
      ]
    },
    {
      "cell_type": "code",
      "source": [
        "# Import Random Forest Regressor\n",
        "from sklearn.ensemble import RandomForestRegressor\n",
        "\n",
        "# Create a Random Forest Regressor\n",
        "reg = RandomForestRegressor()\n",
        "\n",
        "# Train the model using the training sets \n",
        "reg.fit(X_train, y_train)"
      ],
      "metadata": {
        "colab": {
          "base_uri": "https://localhost:8080/"
        },
        "id": "Fdfb4dC4Yo0M",
        "outputId": "2d9d1763-741e-4ddd-ee5e-d49bb79d9ed0"
      },
      "execution_count": 42,
      "outputs": [
        {
          "output_type": "execute_result",
          "data": {
            "text/plain": [
              "RandomForestRegressor()"
            ]
          },
          "metadata": {},
          "execution_count": 42
        }
      ]
    },
    {
      "cell_type": "code",
      "source": [
        "# Model prediction on train data\n",
        "y_pred_rfg = reg.predict(X_train)"
      ],
      "metadata": {
        "id": "EKx5ucyDYs-G"
      },
      "execution_count": 43,
      "outputs": []
    },
    {
      "cell_type": "code",
      "source": [
        "# Model Evaluation\n",
        "print('R^2:',metrics.r2_score(y_train, y_pred_rfg))\n",
        "print('Adjusted R^2:',1 - (1-metrics.r2_score(y_train, y_pred_rfg))*(len(y_train)-1)/(len(y_train)-X_train.shape[1]-1))\n",
        "print('MAE:',metrics.mean_absolute_error(y_train, y_pred_rfg))\n",
        "print('MSE:',metrics.mean_squared_error(y_train, y_pred_rfg))\n",
        "print('RMSE:',np.sqrt(metrics.mean_squared_error(y_train, y_pred_rfg)))"
      ],
      "metadata": {
        "colab": {
          "base_uri": "https://localhost:8080/"
        },
        "id": "mw39S70IYwSQ",
        "outputId": "bdea352d-3f12-4393-cb90-ddf03e8a1d5a"
      },
      "execution_count": 44,
      "outputs": [
        {
          "output_type": "stream",
          "name": "stdout",
          "text": [
            "R^2: 0.9918311198666504\n",
            "Adjusted R^2: 0.9428178390665528\n",
            "MAE: 0.05858000000000026\n",
            "MSE: 0.008246299333333356\n",
            "RMSE: 0.09080913683838954\n"
          ]
        }
      ]
    },
    {
      "cell_type": "code",
      "source": [
        "# Import XGBoost Regressor\n",
        "from xgboost import XGBRegressor\n",
        "\n",
        "#Create a XGBoost Regressor\n",
        "xbreg = XGBRegressor()\n",
        "\n",
        "# Train the model using the training sets \n",
        "xbreg.fit(X_train, y_train)"
      ],
      "metadata": {
        "colab": {
          "base_uri": "https://localhost:8080/"
        },
        "id": "4y7mRE9gYy4p",
        "outputId": "70fb1d16-7845-4dbb-bab0-4797618831f1"
      },
      "execution_count": 45,
      "outputs": [
        {
          "output_type": "stream",
          "name": "stdout",
          "text": [
            "[07:30:45] WARNING: /workspace/src/objective/regression_obj.cu:152: reg:linear is now deprecated in favor of reg:squarederror.\n"
          ]
        },
        {
          "output_type": "execute_result",
          "data": {
            "text/plain": [
              "XGBRegressor()"
            ]
          },
          "metadata": {},
          "execution_count": 45
        }
      ]
    },
    {
      "cell_type": "code",
      "source": [
        "# Model prediction on train data\n",
        "y_pred_xg = xbreg.predict(X_train)"
      ],
      "metadata": {
        "id": "YAPlBpeOY5Io"
      },
      "execution_count": 46,
      "outputs": []
    },
    {
      "cell_type": "code",
      "source": [
        "# Model Evaluation\n",
        "print('R^2:',metrics.r2_score(y_train, y_pred_xg))\n",
        "print('Adjusted R^2:',1 - (1-metrics.r2_score(y_train, y_pred_xg))*(len(y_train)-1)/(len(y_train)-X_train.shape[1]-1))\n",
        "print('MAE:',metrics.mean_absolute_error(y_train, y_pred_xg))\n",
        "print('MSE:',metrics.mean_squared_error(y_train, y_pred_xg))\n",
        "print('RMSE:',np.sqrt(metrics.mean_squared_error(y_train, y_pred_xg)))"
      ],
      "metadata": {
        "colab": {
          "base_uri": "https://localhost:8080/"
        },
        "id": "RHUdHCdZY-N3",
        "outputId": "e83a8bbe-d728-471e-83f5-a372d70f33f1"
      },
      "execution_count": 47,
      "outputs": [
        {
          "output_type": "stream",
          "name": "stdout",
          "text": [
            "R^2: 0.9999989089095263\n",
            "Adjusted R^2: 0.9999923623666838\n",
            "MAE: 0.0007009027798971464\n",
            "MSE: 1.1014311019196487e-06\n",
            "RMSE: 0.0010494908774828149\n"
          ]
        }
      ]
    }
  ]
}