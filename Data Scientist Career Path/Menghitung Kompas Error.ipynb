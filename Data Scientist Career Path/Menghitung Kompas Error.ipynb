{
  "nbformat": 4,
  "nbformat_minor": 0,
  "metadata": {
    "colab": {
      "name": "Menghitung Kompas Error.ipynb",
      "provenance": []
    },
    "kernelspec": {
      "name": "python3",
      "display_name": "Python 3"
    },
    "language_info": {
      "name": "python"
    }
  },
  "cells": [
    {
      "cell_type": "code",
      "execution_count": 1,
      "metadata": {
        "colab": {
          "base_uri": "https://localhost:8080/"
        },
        "id": "eC0zxOzbP-zp",
        "outputId": "3da8bfe2-a898-47a9-8896-735c195e36a3"
      },
      "outputs": [
        {
          "output_type": "stream",
          "name": "stdout",
          "text": [
            "Standar Bearing MV. ABC : 94\n",
            "Gyro Error MV. ABC : -1\n",
            "Standar Error MV. ABC : -3\n",
            "Steering Error MV. ABC : -2\n",
            "Standar Deviation MV. ABC : -1\n",
            "Steering Deviation MV. ABC : 0\n"
          ]
        }
      ],
      "source": [
        "class data:\n",
        "  def __init__(self, ut, date, lat, long, var, true_bearing, gyro_bearing, gyro_heading, standard_heading, steering_heading):\n",
        "    self.ut = ut\n",
        "    self.date = date\n",
        "    self.lat = lat\n",
        "    self.long = long\n",
        "    self.var = var\n",
        "    self.true_bearing = true_bearing\n",
        "    self.gyro_bearing = gyro_bearing\n",
        "    self.gyro_heading = gyro_heading\n",
        "    self.standard_heading = standard_heading\n",
        "    self.steering_heading = steering_heading\n",
        "\n",
        "  def standard_bearing(self):\n",
        "    return self.gyro_bearing + self.standard_heading - self.gyro_heading\n",
        "\n",
        "  def gyro_error(self):\n",
        "    return self.true_bearing - self.gyro_bearing\n",
        "\n",
        "  def standard_error(self):\n",
        "    return self.true_bearing - self.standard_bearing()\n",
        "\n",
        "  def steering_error(self):\n",
        "    return self.standard_error() + self.standard_heading - self.steering_heading\n",
        "\n",
        "  def standard_deviation(self):\n",
        "    return self.standard_error() - self.var\n",
        "\n",
        "  def steering_deviation(self):\n",
        "    return self.steering_error() - self.var\n",
        "\n",
        "\n",
        "r1 = data('0450', '12/10/2020', '06°', '106°', -2, 91, 92, 90, 92, 91)\n",
        "\n",
        "print('Standar Bearing MV. ABC :', r1.standard_bearing())\n",
        "print('Gyro Error MV. ABC :', r1.gyro_error())\n",
        "print('Standar Error MV. ABC :', r1.standard_error())\n",
        "print('Steering Error MV. ABC :', r1.steering_error())\n",
        "print('Standar Deviation MV. ABC :', r1.standard_deviation())\n",
        "print('Steering Deviation MV. ABC :', r1.steering_deviation())\n",
        "\n",
        "\n",
        "\n"
      ]
    }
  ]
}